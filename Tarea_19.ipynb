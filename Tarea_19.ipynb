{
 "cells": [
  {
   "cell_type": "markdown",
   "metadata": {},
   "source": [
    "# Tarea 19"
   ]
  },
  {
   "cell_type": "code",
   "execution_count": 72,
   "metadata": {},
   "outputs": [
    {
     "name": "stderr",
     "output_type": "stream",
     "text": [
      "\u001b[1m\u001b[36mINFO: \u001b[39m\u001b[22m\u001b[36mPackage SymPy is already installed\n",
      "\u001b[39m\u001b[1m\u001b[36mINFO: \u001b[39m\u001b[22m\u001b[36mMETADATA is out-of-date — you may not have the latest version of SymPy\n",
      "\u001b[39m\u001b[1m\u001b[36mINFO: \u001b[39m\u001b[22m\u001b[36mUse `Pkg.update()` to get the latest versions of your packages\n",
      "\u001b[39m"
     ]
    }
   ],
   "source": [
    "Pkg.add(\"SymPy\")\n",
    "using SymPy;"
   ]
  },
  {
   "cell_type": "markdown",
   "metadata": {},
   "source": [
    "## Ejercicio 1"
   ]
  },
  {
   "cell_type": "code",
   "execution_count": 500,
   "metadata": {},
   "outputs": [],
   "source": [
    "function Laplaciano_finito(f)\n",
    "    (x,y,z,h)->(f(x+h,y,z,h)+f(x-h,y,z,h) -2*f(x,y,z,h))/(h^2) + (f(x,y+h,z,h)+f(x,y-h,z,h) -2*f(x,y,z,h))/(h^2) + (f(x,y,z+h,h)+f(x,y,z-h,h) -2*f(x,y,z,h))/(h^2)\n",
    "end;"
   ]
  },
  {
   "cell_type": "code",
   "execution_count": 501,
   "metadata": {},
   "outputs": [],
   "source": [
    "g=SymFunction(\"g\");\n",
    "rr(x,y,z,h)=g(x,y,z)\n",
    "rr(Sym(\"x\"),Sym(\"y\"),Sym(\"z\"),Sym(\"h\"))\n",
    "gg=Laplaciano_finito(rr)"
   ]
  },
  {
   "cell_type": "code",
   "execution_count": 502,
   "metadata": {},
   "outputs": [
    {
     "data": {
      "text/latex": [
       "$$\\frac{1}{h^{2}} \\left(- 2 g{\\left (x,y,z \\right )} + g{\\left (x,y,- h + z \\right )} + g{\\left (x,y,h + z \\right )}\\right) + \\frac{1}{h^{2}} \\left(- 2 g{\\left (x,y,z \\right )} + g{\\left (x,- h + y,z \\right )} + g{\\left (x,h + y,z \\right )}\\right) + \\frac{1}{h^{2}} \\left(- 2 g{\\left (x,y,z \\right )} + g{\\left (- h + x,y,z \\right )} + g{\\left (h + x,y,z \\right )}\\right)$$"
      ],
      "text/plain": [
       "-2*g(x, y, z) + g(x, y, -h + z) + g(x, y, h + z)   -2*g(x, y, z) + g(x, -h + y\n",
       "------------------------------------------------ + ---------------------------\n",
       "                        2                                                  2  \n",
       "                       h                                                  h   \n",
       "\n",
       ", z) + g(x, h + y, z)   -2*g(x, y, z) + g(-h + x, y, z) + g(h + x, y, z)\n",
       "--------------------- + ------------------------------------------------\n",
       "                                                2                       \n",
       "                                               h                        "
      ]
     },
     "execution_count": 502,
     "metadata": {},
     "output_type": "execute_result"
    }
   ],
   "source": [
    "gg(Sym(\"x\"),Sym(\"y\"),Sym(\"z\"),Sym(\"h\"))"
   ]
  },
  {
   "cell_type": "markdown",
   "metadata": {},
   "source": [
    "## Ejercicio 2"
   ]
  },
  {
   "cell_type": "code",
   "execution_count": 524,
   "metadata": {},
   "outputs": [],
   "source": [
    "function Derivada_2(f,h)\n",
    "    x->(f(x+h)+f(x-h) -2*f(x))/(h^2)\n",
    "end;"
   ]
  },
  {
   "cell_type": "code",
   "execution_count": 574,
   "metadata": {},
   "outputs": [
    {
     "data": {
      "text/latex": [
       "\\begin{bmatrix}25.0 f{\\left (0.0 \\right )} - 50.0 f{\\left (0.2 \\right )} + 25.0 f{\\left (0.4 \\right )}\\\\25.0 f{\\left (0.2 \\right )} - 50.0 f{\\left (0.4 \\right )} + 25.0 f{\\left (0.6 \\right )}\\\\25.0 f{\\left (0.4 \\right )} - 50.0 f{\\left (0.6 \\right )} + 25.0 f{\\left (0.8 \\right )}\\\\25.0 f{\\left (0.6 \\right )} - 50.0 f{\\left (0.8 \\right )} + 25.0 f{\\left (1.0 \\right )}\\end{bmatrix}"
      ],
      "text/plain": [
       "4-element Array{SymPy.Sym,1}:\n",
       " 25.0*f(0.0) - 50.0*f(0.2) + 25.0*f(0.4)\n",
       " 25.0*f(0.2) - 50.0*f(0.4) + 25.0*f(0.6)\n",
       " 25.0*f(0.4) - 50.0*f(0.6) + 25.0*f(0.8)\n",
       " 25.0*f(0.6) - 50.0*f(0.8) + 25.0*f(1.0)"
      ]
     },
     "execution_count": 574,
     "metadata": {},
     "output_type": "execute_result"
    }
   ],
   "source": [
    "a=0\n",
    "b=1\n",
    "n=5\n",
    "h=(b-a)/n\n",
    "Int=linspace(a+h,b-h,n-1)\n",
    "f=SymFunction(\"f\")\n",
    "Arr=Derivada_2(f,h)\n",
    "Arr.(Int)"
   ]
  },
  {
   "cell_type": "markdown",
   "metadata": {},
   "source": [
    "De esta manera utilizando las condiciones de Dirichlet $f(0)=a$ y $f(1)=b$, el sistema de ecuaciones lineales obtenido por la discretización es el siguiente:\n",
    "\n",
    "\\begin{align*}\n",
    "25a - 50f(0.2) + 25 f(0.4) =& g(0.2) \\\\\n",
    "25f(0.2) - 50f(0.4) + 25 f(0.6) =& g(0.4) \\\\\n",
    "25f(0.4) - 50f(0.6) + 25 f(0.8) =& g(0.6) \\\\\n",
    "25f(0.6) - 50f(0.8) + 25b =& g(0.8)\n",
    "\\end{align*}\n",
    "\n",
    "En donde $ g: [0,1] \\rightarrow R$ está dada. Así, se tienen cuatro ecuaciones linealmente independientes y cuatro incógnitas."
   ]
  },
  {
   "cell_type": "markdown",
   "metadata": {},
   "source": [
    "## Ejercico 3"
   ]
  },
  {
   "cell_type": "markdown",
   "metadata": {},
   "source": [
    "El sistema obtenido con el mismo resultado del ejercicio anterior y tomando esta vez las condiciones de Neumann $f'(0)=a$ y  $f'(1)=b$ es\n",
    "\n",
    "\\begin{align*}\n",
    "-25a - 25f(0.2) + 25 f(0.4) =& g(0.2) \\\\\n",
    "25f(0.2) - 50f(0.4) + 25 f(0.6) =& g(0.4) \\\\\n",
    "25f(0.4) - 50f(0.6) + 25 f(0.8) =& g(0.6) \\\\\n",
    "25f(0.6) - 25f(0.8) + 25b =& g(0.8)\n",
    "\\end{align*}\n",
    "\n",
    "En donde $ g: [0,1] \\rightarrow R$ está dada. Así, se tienen cuatro ecuaciones linealmente independientes y cuatro incógnitas.\n"
   ]
  },
  {
   "cell_type": "markdown",
   "metadata": {},
   "source": [
    "## Ejercicio 4"
   ]
  },
  {
   "cell_type": "code",
   "execution_count": 647,
   "metadata": {},
   "outputs": [
    {
     "data": {
      "text/plain": [
       "Indices (generic function with 1 method)"
      ]
     },
     "execution_count": 647,
     "metadata": {},
     "output_type": "execute_result"
    }
   ],
   "source": [
    "function Indices(i,j,dimy) #dimy=número de filas\n",
    "    k = (j-1)*dimy + i \n",
    "    k\n",
    "end"
   ]
  },
  {
   "cell_type": "code",
   "execution_count": 648,
   "metadata": {},
   "outputs": [
    {
     "data": {
      "text/plain": [
       "4×4 Array{Int64,2}:\n",
       " 1  2  3  11\n",
       " 4  5  6  12\n",
       " 7  8  9  13\n",
       " 3  5  7  10"
      ]
     },
     "execution_count": 648,
     "metadata": {},
     "output_type": "execute_result"
    }
   ],
   "source": [
    "A=[1 2 3 11;4 5 6 12;7 8 9 13; 3 5 7 10]"
   ]
  },
  {
   "cell_type": "code",
   "execution_count": 649,
   "metadata": {},
   "outputs": [
    {
     "data": {
      "text/plain": [
       "2"
      ]
     },
     "execution_count": 649,
     "metadata": {},
     "output_type": "execute_result"
    }
   ],
   "source": [
    "A[5]"
   ]
  },
  {
   "cell_type": "code",
   "execution_count": 659,
   "metadata": {},
   "outputs": [
    {
     "name": "stdout",
     "output_type": "stream",
     "text": [
      "k=5\n"
     ]
    },
    {
     "data": {
      "text/plain": [
       "2"
      ]
     },
     "execution_count": 659,
     "metadata": {},
     "output_type": "execute_result"
    }
   ],
   "source": [
    "k=Indices(2,2,3)\n",
    "println(\"k=\", k)\n",
    "A[k]"
   ]
  },
  {
   "cell_type": "code",
   "execution_count": 651,
   "metadata": {},
   "outputs": [
    {
     "data": {
      "text/plain": [
       "Indices_inv (generic function with 1 method)"
      ]
     },
     "execution_count": 651,
     "metadata": {},
     "output_type": "execute_result"
    }
   ],
   "source": [
    "function Indices_inv(k,dimy)\n",
    "    a= abs(floor(k/dimy) - k/dimy)\n",
    "    \n",
    "    if a != 0\n",
    "        i = k - floor(k/dimy)*dimy\n",
    "    end\n",
    "    if a == 0\n",
    "        i = dimy\n",
    "    end\n",
    "    \n",
    "    if a == 0.\n",
    "        j = floor(abs(k/dimy))\n",
    "    end\n",
    "    if a != 0.\n",
    "        j=floor(abs(k/dimy))+1\n",
    "    end\n",
    "    i = Int8(i)\n",
    "    j = Int8(j)\n",
    "    i,j\n",
    "end"
   ]
  },
  {
   "cell_type": "code",
   "execution_count": 652,
   "metadata": {},
   "outputs": [
    {
     "data": {
      "text/plain": [
       "4×4 Array{Int64,2}:\n",
       " 1  2  3  11\n",
       " 4  5  6  12\n",
       " 7  8  9  13\n",
       " 3  5  7  10"
      ]
     },
     "execution_count": 652,
     "metadata": {},
     "output_type": "execute_result"
    }
   ],
   "source": [
    "A"
   ]
  },
  {
   "cell_type": "code",
   "execution_count": 653,
   "metadata": {},
   "outputs": [
    {
     "data": {
      "text/plain": [
       "13"
      ]
     },
     "execution_count": 653,
     "metadata": {},
     "output_type": "execute_result"
    }
   ],
   "source": [
    "A[15]"
   ]
  },
  {
   "cell_type": "code",
   "execution_count": 660,
   "metadata": {},
   "outputs": [
    {
     "name": "stdout",
     "output_type": "stream",
     "text": [
      "i=3\n",
      "j=4\n"
     ]
    },
    {
     "data": {
      "text/plain": [
       "13"
      ]
     },
     "execution_count": 660,
     "metadata": {},
     "output_type": "execute_result"
    }
   ],
   "source": [
    "i=Indices_inv(15,4)[1]\n",
    "j=Indices_inv(15,4)[2]\n",
    "println(\"i=\",i)\n",
    "println(\"j=\",j)\n",
    "A[i,j]"
   ]
  }
 ],
 "metadata": {
  "kernelspec": {
   "display_name": "Julia 0.6.0",
   "language": "julia",
   "name": "julia-0.6"
  },
  "language_info": {
   "file_extension": ".jl",
   "mimetype": "application/julia",
   "name": "julia",
   "version": "0.6.0"
  }
 },
 "nbformat": 4,
 "nbformat_minor": 2
}
