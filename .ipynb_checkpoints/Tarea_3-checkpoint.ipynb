{
 "cells": [
  {
   "cell_type": "code",
   "execution_count": 1,
   "metadata": {},
   "outputs": [
    {
     "data": {
      "text/plain": [
       "solucion (generic function with 1 method)"
      ]
     },
     "execution_count": 1,
     "metadata": {},
     "output_type": "execute_result"
    }
   ],
   "source": [
    "function solucion(y0,x0) #y0 es el valor dentro de la raíz\n",
    "                         #x0 es el valor para comenzar la iteración\n",
    "    x = x0\n",
    "    prec = 1e-16\n",
    "    f = x*tan(x) - sqrt(y0-x^2)\n",
    "    while abs(f) > prec\n",
    "        f = x*tan(x) - sqrt(y0-x^2)\n",
    "        df = tan(x) + x*(sec(x))^2 + x/sqrt(y0-x^2)\n",
    "        x = x - f/df\n",
    "    end\n",
    "    println(\"solucion = \", x)\n",
    "    println(\"sustitucion = \", f)\n",
    "    return x\n",
    "end"
   ]
  },
  {
   "cell_type": "code",
   "execution_count": 2,
   "metadata": {},
   "outputs": [
    {
     "name": "stdout",
     "output_type": "stream",
     "text": [
      "solucion = 0.8900586117066734\n",
      "sustitucion = 0.0\n"
     ]
    },
    {
     "data": {
      "text/plain": [
       "0.8900586117066734"
      ]
     },
     "execution_count": 2,
     "metadata": {},
     "output_type": "execute_result"
    }
   ],
   "source": [
    "solucion(2,1)"
   ]
  },
  {
   "cell_type": "code",
   "execution_count": null,
   "metadata": {
    "collapsed": true
   },
   "outputs": [],
   "source": []
  }
 ],
 "metadata": {
  "kernelspec": {
   "display_name": "Julia 0.6.0",
   "language": "julia",
   "name": "julia-0.6"
  },
  "language_info": {
   "file_extension": ".jl",
   "mimetype": "application/julia",
   "name": "julia",
   "version": "0.6.0"
  }
 },
 "nbformat": 4,
 "nbformat_minor": 2
}
