{
 "cells": [
  {
   "cell_type": "markdown",
   "metadata": {},
   "source": [
    "# Tarea 20"
   ]
  },
  {
   "cell_type": "code",
   "execution_count": 17,
   "metadata": {
    "collapsed": true
   },
   "outputs": [],
   "source": [
    "using SymPy\n",
    "using PyPlot"
   ]
  },
  {
   "cell_type": "markdown",
   "metadata": {},
   "source": [
    "Utilizaré esta función en la tarea."
   ]
  },
  {
   "cell_type": "markdown",
   "metadata": {},
   "source": [
    "Dado el sistema de ecuaciones, se puede obtener un vector cuyas entradas sean cada ecuación."
   ]
  },
  {
   "cell_type": "markdown",
   "metadata": {},
   "source": [
    "## Ejercicio 1"
   ]
  },
  {
   "cell_type": "markdown",
   "metadata": {},
   "source": [
    "Para obtener la matriz A hago lo siguiente."
   ]
  },
  {
   "cell_type": "code",
   "execution_count": 19,
   "metadata": {},
   "outputs": [],
   "source": [
    "A=zeros(15,15)\n",
    "a_11=-4.\n",
    "a_12=1.\n",
    "a_21=1.\n",
    "a_16=1.\n",
    "a_61=1.\n",
    "for i in 1:15\n",
    "    A[i,i]=a_11\n",
    "end\n",
    "for i in 1:14\n",
    "    A[i,i+1]=a_12\n",
    "end\n",
    "for i in 2:15\n",
    "    A[i,i-1]=a_21\n",
    "end\n",
    "for i in 6:15\n",
    "    A[i,i-5]=a_16\n",
    "end\n",
    "for i in 1:10\n",
    "    A[i,i+5]=a_61\n",
    "end\n",
    "\n",
    "b_5=70.7107\n",
    "b_10=100.\n",
    "b_15=70.7107\n",
    "b=zeros(15)\n",
    "b[5]=b_5\n",
    "b[10]=b_10\n",
    "b[15]=b_15;"
   ]
  },
  {
   "cell_type": "markdown",
   "metadata": {},
   "source": [
    "Resuelvo la ecuación y obtengo F en forma de vector."
   ]
  },
  {
   "cell_type": "code",
   "execution_count": 20,
   "metadata": {},
   "outputs": [
    {
     "data": {
      "text/plain": [
       "15-element Array{Float64,1}:\n",
       "  7.72048\n",
       "  8.61624\n",
       " 11.6129 \n",
       " 20.8596 \n",
       " 42.968  \n",
       " 22.2657 \n",
       " 15.1316 \n",
       " 16.9757 \n",
       " 28.8575 \n",
       " 58.0362 \n",
       " 23.2427 \n",
       " 12.6688 \n",
       " 12.3008 \n",
       " 19.5587 \n",
       " 37.0764 "
      ]
     },
     "execution_count": 20,
     "metadata": {},
     "output_type": "execute_result"
    }
   ],
   "source": [
    "A_inv=inv(A)\n",
    "F=-A_inv*b"
   ]
  },
  {
   "cell_type": "markdown",
   "metadata": {},
   "source": [
    "Para volver F a una matriz, utilizo la función que creé para la tarea pasada, llamada Indices_inv."
   ]
  },
  {
   "cell_type": "code",
   "execution_count": 18,
   "metadata": {},
   "outputs": [
    {
     "data": {
      "text/plain": [
       "Indices_inv (generic function with 1 method)"
      ]
     },
     "execution_count": 18,
     "metadata": {},
     "output_type": "execute_result"
    }
   ],
   "source": [
    "function Indices_inv(k,dimy) #dimy=número de filas\n",
    "    a= abs(floor(k/dimy) - k/dimy)\n",
    "    \n",
    "    if a != 0\n",
    "        i = k - floor(k/dimy)*dimy\n",
    "    end\n",
    "    if a == 0\n",
    "        i = dimy\n",
    "    end\n",
    "    \n",
    "    if a == 0.\n",
    "        j = floor(abs(k/dimy))\n",
    "    end\n",
    "    if a != 0.\n",
    "        j=floor(abs(k/dimy))+1\n",
    "    end\n",
    "    i = Int8(i)\n",
    "    j = Int8(j)\n",
    "    i,j\n",
    "end"
   ]
  },
  {
   "cell_type": "code",
   "execution_count": 31,
   "metadata": {},
   "outputs": [
    {
     "data": {
      "text/plain": [
       "reacomodo (generic function with 1 method)"
      ]
     },
     "execution_count": 31,
     "metadata": {},
     "output_type": "execute_result"
    }
   ],
   "source": [
    "function reacomodo(F,i,j)\n",
    "    dimy = i\n",
    "    dimx = j\n",
    "    F_m=zeros(dimy,dimx)\n",
    "    len=length(F)\n",
    "    for i in 1:len\n",
    "        F_m[Indices_inv(i,3)[1],Indices_inv(i,3)[2]]=F[i]\n",
    "    end\n",
    "    F_m\n",
    "end"
   ]
  },
  {
   "cell_type": "code",
   "execution_count": 33,
   "metadata": {},
   "outputs": [
    {
     "data": {
      "text/plain": [
       "3×5 Array{Float64,2}:\n",
       "  7.72048  20.8596  15.1316  58.0362  12.3008\n",
       "  8.61624  42.968   16.9757  23.2427  19.5587\n",
       " 11.6129   22.2657  28.8575  12.6688  37.0764"
      ]
     },
     "execution_count": 33,
     "metadata": {},
     "output_type": "execute_result"
    }
   ],
   "source": [
    "F_m=reacomodo(F,3,5)"
   ]
  },
  {
   "cell_type": "markdown",
   "metadata": {},
   "source": [
    "Ahora grafico F_m."
   ]
  },
  {
   "cell_type": "code",
   "execution_count": 34,
   "metadata": {},
   "outputs": [
    {
     "data": {
      "image/png": "[encoded data removed]",
      "text/plain": [
       "PyPlot.Figure(PyObject <matplotlib.figure.Figure object at 0x1309e1c50>)"
      ]
     },
     "metadata": {},
     "output_type": "display_data"
    },
    {
     "data": {
      "text/plain": [
       "PyObject <matplotlib.collections.QuadMesh object at 0x133da31d0>"
      ]
     },
     "execution_count": 34,
     "metadata": {},
     "output_type": "execute_result"
    }
   ],
   "source": [
    "pcolormesh(F_m)"
   ]
  }
 ],
 "metadata": {
  "kernelspec": {
   "display_name": "Julia 0.6.0",
   "language": "julia",
   "name": "julia-0.6"
  },
  "language_info": {
   "file_extension": ".jl",
   "mimetype": "application/julia",
   "name": "julia",
   "version": "0.6.0"
  }
 },
 "nbformat": 4,
 "nbformat_minor": 2
}
