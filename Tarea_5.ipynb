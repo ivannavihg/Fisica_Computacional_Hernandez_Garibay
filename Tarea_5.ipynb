{
 "cells": [
  {
   "cell_type": "markdown",
   "metadata": {
    "collapsed": true
   },
   "source": [
    "# Tarea 5. Métodos de Integración"
   ]
  },
  {
   "cell_type": "markdown",
   "metadata": {},
   "source": [
    "## Método de integración de Riemann"
   ]
  },
  {
   "cell_type": "markdown",
   "metadata": {},
   "source": [
    "Supongamos que $P = \\{ t_0 , ..., t_n \\}$ es una partición del intervalo $[a,b]$ y que para cada $i$ se elige un punto $x_i$ de $[t_{i-1},t_i]$. Entonces la siguiente suma se denomina $\\textit{Suma de Riemann}$ de la partición $P$:\n",
    "\\begin{equation}\n",
    "\\sum_{i=1}^n f(x_i)(t_i - t_{i-1})\n",
    "\\end{equation}\n",
    "\n",
    "![Archivo_000.png](Archivo_000.png)\n",
    "\n",
    "En dicha definición, las $x_i$ pueden ser cualquier punto dentro de $[t_{i-1},t_i]$.\n",
    "El resultado de dicha suma es una aproximación de la siguiente integral\n",
    "\n",
    "\\begin{equation}\n",
    "\\int_{a}^b f(x)dx\n",
    "\\end{equation}\n",
    "\n",
    "Dicha aproximación es más precisa mientras más puntos tiene la partición $P$."
   ]
  },
  {
   "cell_type": "markdown",
   "metadata": {},
   "source": [
    "## Método de integración del trapecio"
   ]
  },
  {
   "attachments": {},
   "cell_type": "markdown",
   "metadata": {},
   "source": [
    "Este método sirve para aproximar la integral $\\int_{a}^b f(x)dx$ por medio de la integral $\\int_{a}^b P(x)dx$, donde $P(x)$ es un polinomio de primer orden que sirve como aproximación de $f(x)$ en el intervalo $[a,b]$, definido como:\n",
    "\n",
    "\\begin{equation}\n",
    "P(x) = f(a) + \\frac{f(b) - f(a)}{b-a}(x-a)\n",
    "\\end{equation}\n",
    "\n",
    "\n",
    "![Trapezoidal_rule_illustration.png](Trapezoidal_rule_illustration.png)\n",
    "\n",
    "\n",
    "En el esquema anterior, la linea roja representa el polinomio de primer orden, mientras que la linea azul representa la función que se quiere integrar."
   ]
  },
  {
   "cell_type": "markdown",
   "metadata": {},
   "source": [
    "## Método de integración de la regla de Simpson "
   ]
  },
  {
   "attachments": {},
   "cell_type": "markdown",
   "metadata": {},
   "source": [
    "Este método sirve para aproximar la integral $\\int_{a}^b f(x)dx$ por medio de la integral $\\int_{a}^b P(x)dx$, donde $P(x)$ es un polinomio de segundo orden que sirve como aproximación de $f(x)$ en el intervalo $[a,b]$. La forma de obtener dicho polinómio es con el método de Lagrange, que utiliza el hecho de que dados tres puntos en el plano, existe un polinomio de segundo orden que pasa por éstos al interpolar. Los tres puntos a utilizar serán $a$, $m$ y $b$, donde $a < m < b$. Así, el polinomio buscado es el siguiente.\n",
    "\n",
    "\\begin{equation}\n",
    "P(x) = f(a)\\frac{(x-m)(x-b)}{(a-m)(a-b)} + f(m)\\frac{(x-a)(x-b)}{(m-a)(m-b)} + f(b)\\frac{(x-a)(x-m)}{(b-a)(b-m)}\n",
    "\\end{equation}\n",
    "\n",
    "\n",
    "![maxresdefault.jpg](maxresdefault.jpg)"
   ]
  },
  {
   "cell_type": "code",
   "execution_count": null,
   "metadata": {
    "collapsed": true
   },
   "outputs": [],
   "source": []
  }
 ],
 "metadata": {
  "kernelspec": {
   "display_name": "Julia 0.6.0",
   "language": "julia",
   "name": "julia-0.6"
  },
  "language_info": {
   "file_extension": ".jl",
   "mimetype": "application/julia",
   "name": "julia",
   "version": "0.6.0"
  }
 },
 "nbformat": 4,
 "nbformat_minor": 2
}
