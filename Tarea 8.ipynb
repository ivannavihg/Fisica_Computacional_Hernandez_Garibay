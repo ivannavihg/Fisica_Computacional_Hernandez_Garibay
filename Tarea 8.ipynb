{
 "cells": [
  {
   "cell_type": "markdown",
   "metadata": {},
   "source": [
    "# Tarea 8"
   ]
  },
  {
   "cell_type": "code",
   "execution_count": 1,
   "metadata": {},
   "outputs": [
    {
     "name": "stderr",
     "output_type": "stream",
     "text": [
      "\u001b[1m\u001b[36mINFO: \u001b[39m\u001b[22m\u001b[36mPackage PyPlot is already installed\n",
      "\u001b[39m\u001b[1m\u001b[36mINFO: \u001b[39m\u001b[22m\u001b[36mMETADATA is out-of-date — you may not have the latest version of PyPlot\n",
      "\u001b[39m\u001b[1m\u001b[36mINFO: \u001b[39m\u001b[22m\u001b[36mUse `Pkg.update()` to get the latest versions of your packages\n",
      "\u001b[39m\u001b[1m\u001b[36mINFO: \u001b[39m\u001b[22m\u001b[36mPackage SymPy is already installed\n",
      "\u001b[39m\u001b[1m\u001b[36mINFO: \u001b[39m\u001b[22m\u001b[36mMETADATA is out-of-date — you may not have the latest version of SymPy\n",
      "\u001b[39m\u001b[1m\u001b[36mINFO: \u001b[39m\u001b[22m\u001b[36mUse `Pkg.update()` to get the latest versions of your packages\n",
      "\u001b[39m"
     ]
    }
   ],
   "source": [
    "Pkg.add(\"PyPlot\")\n",
    "Pkg.add(\"SymPy\")"
   ]
  },
  {
   "cell_type": "code",
   "execution_count": 2,
   "metadata": {
    "collapsed": true
   },
   "outputs": [],
   "source": [
    "using PyPlot;\n",
    "plt = PyPlot;\n",
    "using SymPy;"
   ]
  },
  {
   "cell_type": "markdown",
   "metadata": {},
   "source": [
    "## Ejercicio 1"
   ]
  },
  {
   "cell_type": "code",
   "execution_count": 3,
   "metadata": {},
   "outputs": [
    {
     "data": {
      "text/plain": [
       "derivadaNumerica (generic function with 1 method)"
      ]
     },
     "execution_count": 3,
     "metadata": {},
     "output_type": "execute_result"
    }
   ],
   "source": [
    "function derivadaNumerica(f,x0,h)\n",
    "    (f(x0+h)-f(x0))/h\n",
    "end"
   ]
  },
  {
   "cell_type": "code",
   "execution_count": 4,
   "metadata": {},
   "outputs": [
    {
     "data": {
      "text/plain": [
       "4.0001000000078335"
      ]
     },
     "execution_count": 4,
     "metadata": {},
     "output_type": "execute_result"
    }
   ],
   "source": [
    "derivadaNumerica(x->x^2,2,0.0001)"
   ]
  },
  {
   "cell_type": "markdown",
   "metadata": {},
   "source": [
    "## Ejercicio 7"
   ]
  },
  {
   "cell_type": "markdown",
   "metadata": {},
   "source": [
    "Se tiene $\\delta_h=\\Delta_h-\\Delta_{-h}$. Utilizando la definición de diferencia finita se tiene: $\\delta_h = e^{h\\frac{d}{d\\xi}|_{\\substack{ \\xi=x }}} - 1 - (e^{-h\\frac{d}{d\\xi}|_{\\substack{ \\xi=x }}} - 1)$\n",
    "\n",
    "Así, $\\delta_h = e^{h\\frac{d}{d\\xi}|_{\\substack{ \\xi=x }}} - e^{-h\\frac{d}{d\\xi}|_{\\substack{ \\xi=x }}} $\n",
    "\n",
    "Entones $\\theta (x) = e^x - e^{-x}$. Es decir, $\\theta (x) = 2sen(x)$ Sustituyendo los valores en la función seno se tiene:\n",
    "\n",
    "$$\\delta_h = 2 sen(h\\frac{d}{d\\xi}|_{\\substack{ \\xi=x }}) $$ Al despejar, se obtiene la relación deseada:\n",
    "\n",
    "$$\\frac{d}{d\\xi}|_{\\substack{ \\xi=x }} = \\frac{1}{h}arcsen(\\frac{\\delta_h}{2})$$ Aplicando la serie de Taylor de la función $arcsen$ con $\\delta_h$ alrededor de $0$ se tiene que \n",
    "\n",
    "$$\\frac{d}{d\\xi}|_{\\substack{ \\xi=x }} = \\frac{1}{h} \\sum_{n=0}^{\\infty} \\frac{(2n)!}{4^n(n!)^2(2n+1)}(\\frac{\\delta_h}{2})^{2n+1} = \\frac{\\delta_h}{2} +\\frac{1}{6}\\frac{\\delta_h}{2}^3 + ... $$"
   ]
  }
 ],
 "metadata": {
  "kernelspec": {
   "display_name": "Julia 0.6.0",
   "language": "julia",
   "name": "julia-0.6"
  },
  "language_info": {
   "file_extension": ".jl",
   "mimetype": "application/julia",
   "name": "julia",
   "version": "0.6.0"
  }
 },
 "nbformat": 4,
 "nbformat_minor": 2
}
